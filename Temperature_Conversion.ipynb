{
  "nbformat": 4,
  "nbformat_minor": 0,
  "metadata": {
    "colab": {
      "provenance": []
    },
    "kernelspec": {
      "name": "python3",
      "display_name": "Python 3"
    },
    "language_info": {
      "name": "python"
    }
  },
  "cells": [
    {
      "cell_type": "markdown",
      "source": [
        "Level:1 Task-2 Temperature Conversion\n",
        "\n",
        "Create a Python program that converts\n",
        "temperatures between Celsius and\n",
        "Fahrenheit. Prompt the user to enter a\n",
        "temperature value and the unit of\n",
        "measurement, and then display the\n",
        "converted temperature."
      ],
      "metadata": {
        "id": "hsUz5FPFaq6S"
      }
    },
    {
      "cell_type": "code",
      "execution_count": null,
      "metadata": {
        "id": "SWhHOr_uGLRv"
      },
      "outputs": [],
      "source": [
        "def celsius_to_fahrenheit(celsius):\n",
        "    fahrenheit = (celsius * 9/5) + 32\n",
        "    return fahrenheit"
      ]
    },
    {
      "cell_type": "code",
      "source": [
        "def fahrenheit_to_celsius(fahrenheit):\n",
        "    celsius = (fahrenheit - 32) * 5/9\n",
        "    return celsius"
      ],
      "metadata": {
        "id": "hMbsBgY7jow1"
      },
      "execution_count": null,
      "outputs": []
    },
    {
      "cell_type": "code",
      "source": [
        "def main():\n",
        "    choice = input(\"Enter 'C' for Celsius to Fahrenheit conversion or 'F' for Fahrenheit to Celsius conversion: \").upper()\n",
        "\n",
        "    if choice == 'C':\n",
        "        celsius = float(input(\"Enter temperature in Celsius: \"))\n",
        "        fahrenheit = celsius_to_fahrenheit(celsius)\n",
        "        print(f\"{celsius:.2f} degree Celsius is equal to {fahrenheit:.2f} degree Fahrenheit.\")\n",
        "    elif choice == 'F':\n",
        "        fahrenheit = float(input(\"Enter temperature in Fahrenheit: \"))\n",
        "        celsius = fahrenheit_to_celsius(fahrenheit)\n",
        "        print(f\"{fahrenheit:.2f} degree Fahrenheit is equal to {celsius:.2f} degree Celsius.\")\n",
        "    else:\n",
        "        print(\"Invalid choice. Please enter 'C' or 'F'.\")"
      ],
      "metadata": {
        "id": "5bHwuiI2kXIt"
      },
      "execution_count": null,
      "outputs": []
    },
    {
      "cell_type": "code",
      "source": [
        "if __name__ == \"__main__\":\n",
        "    main()"
      ],
      "metadata": {
        "colab": {
          "base_uri": "https://localhost:8080/"
        },
        "id": "YB5Yg54_cT8T",
        "outputId": "678a70cd-4578-460e-ffa9-3f9935f97d43"
      },
      "execution_count": null,
      "outputs": [
        {
          "output_type": "stream",
          "name": "stdout",
          "text": [
            "Enter 'C' for Celsius to Fahrenheit conversion or 'F' for Fahrenheit to Celsius conversion: F\n",
            "Enter temperature in Fahrenheit: 40\n",
            "40.00 degree Fahrenheit is equal to 4.44 degree Celsius.\n"
          ]
        }
      ]
    }
  ]
}